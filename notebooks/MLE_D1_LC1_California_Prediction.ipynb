{
 "cells": [
  {
   "cell_type": "markdown",
   "id": "82d9f0e1-496a-468f-a64e-2ab022355aaf",
   "metadata": {
    "id": "82d9f0e1-496a-468f-a64e-2ab022355aaf",
    "tags": [
     "headers"
    ]
   },
   "source": [
    "<a id='Q0'></a>\n",
    "<center><a target=\"_blank\" href=\"http://www.propulsion.academy\"><img src=\"https://drive.google.com/uc?id=1z0U84GYqhbWWpCenFajh8_8XFRGyOc3U\" width=\"200\" style=\"background:none; border:none; box-shadow:none;\" /></a> </center>\n",
    "<center> <h1> Live Coding 1: Simple Prediction Notebook</h1> </center>\n",
    "<p style=\"margin-bottom:1cm;\"></p>\n",
    "<center><h4>Propulsion Academy, 2022</h4></center>\n",
    "<p style=\"margin-bottom:1cm;\"></p>\n",
    "\n",
    "<div style=\"background:#EEEDF5;border-top:0.1cm solid #EF475B;border-bottom:0.1cm solid #EF475B;\">\n",
    "    <div style=\"margin-left: 0.5cm;margin-top: 0.5cm;margin-bottom: 0.5cm;color:#303030\">\n",
    "        <p><strong>Goal:</strong> Revision on a simple prediction model using Scikit Learn</p>\n",
    "        <strong> Outline:</strong>\n",
    "        <a id='P0' name=\"P0\"></a>\n",
    "        <ol>\n",
    "            <li> <a style=\"color:#303030\" href='#SU'>Set up</a></li>\n",
    "            <li> <a style=\"color:#303030\" href='#P1'>Data Exploration and Cleaning</a></li>\n",
    "            <li> <a style=\"color:#303030\" href='#P2'>Modeling</a></li>\n",
    "            <li> <a style=\"color:#303030\" href='#P3'>Model Evaluation</a></li>\n",
    "            <li> <a style=\"color:#303030\" href='#CL'>Conclusion</a></li>\n",
    "        </ol>\n",
    "        <strong>Topics Trained:</strong> Notebook Layout, Data Cleaning, Modelling and Model Evaluation\n",
    "    </div>\n",
    "</div>\n",
    "\n",
    "<nav style=\"text-align:right\"><strong>\n",
    "        <a style=\"color:#00BAE5\" href=\"https://monolith.propulsion-home.ch/backend/api/momentum/materials/ds-materials/07_MLEngineering/index.html\" title=\"momentum\"> Module 7, Machine Learning Engineering </a>|\n",
    "        <a style=\"color:#00BAE5\" href=\"https://monolith.propulsion-home.ch/backend/api/momentum/materials/ds-materials/07_MLEngineering/day1/index.html\" title=\"momentum\">Day 1, Data Science Project Development </a>|\n",
    "        <a style=\"color:#00BAE5\" href=\"https://drive.google.com/file/d/1SOCQu9Gv3jNNXxvJSszBC3fYNsM0df2F/view?usp=sharing\" title=\"momentum\"> Live Coding 1, Simple Prediction Notebook</a>\n",
    "</strong></nav>"
   ]
  },
  {
   "cell_type": "markdown",
   "id": "6c35903c-1dc5-4806-83d8-d8e1bc53ebc9",
   "metadata": {
    "id": "6c35903c-1dc5-4806-83d8-d8e1bc53ebc9"
   },
   "source": [
    "<a id='I' name=\"I\"></a>\n",
    "## [Introduction](#P0)"
   ]
  },
  {
   "cell_type": "markdown",
   "id": "493e3e1f-7939-4cbb-ad23-3e2313dc7170",
   "metadata": {
    "id": "493e3e1f-7939-4cbb-ad23-3e2313dc7170"
   },
   "source": [
    "This Notebook is a minimal example of a regression experiment on the California Housing Dataset. It is inspired from the exercise from day 2 of the [Machine Learning Module](https://monolith.propulsion-home.ch/backend/api/momentum/materials/ds-materials/04_MachineLearning/day2/pages/07_exercises.html).\n",
    "\n",
    "The modeling and data cleaning are very simple, so that you can focus on MLOps concepts"
   ]
  },
  {
   "cell_type": "markdown",
   "id": "e002456c-2c86-4d93-aaa8-41d10ee8100e",
   "metadata": {
    "id": "e002456c-2c86-4d93-aaa8-41d10ee8100e"
   },
   "source": [
    "<a id='SU' name=\"SU\"></a>\n",
    "## [Set up](#P0)"
   ]
  },
  {
   "cell_type": "markdown",
   "id": "3e2094b1-e612-4550-a1a3-f64eb28fa5ae",
   "metadata": {
    "id": "3e2094b1-e612-4550-a1a3-f64eb28fa5ae"
   },
   "source": [
    "### Packages"
   ]
  },
  {
   "cell_type": "code",
   "execution_count": 1,
   "id": "20e6e229-1ab0-4110-b85f-f85798d402fe",
   "metadata": {
    "id": "20e6e229-1ab0-4110-b85f-f85798d402fe"
   },
   "outputs": [],
   "source": [
    "import numpy as np\n",
    "import pandas as pd\n",
    "\n",
    "from sklearn.model_selection import train_test_split\n",
    "from sklearn.preprocessing import StandardScaler\n",
    "from sklearn.linear_model import LinearRegression\n",
    "from sklearn import metrics\n",
    "from sklearn.pipeline import Pipeline"
   ]
  },
  {
   "cell_type": "markdown",
   "id": "6b0600bc-e3a1-4458-8edd-dfdd337a55b2",
   "metadata": {
    "id": "6b0600bc-e3a1-4458-8edd-dfdd337a55b2"
   },
   "source": [
    "### User Dependent Variables"
   ]
  },
  {
   "cell_type": "code",
   "execution_count": 4,
   "id": "66dba760-d447-4228-9f87-ea949c061fb8",
   "metadata": {
    "id": "66dba760-d447-4228-9f87-ea949c061fb8"
   },
   "outputs": [],
   "source": [
    "data_path = \"../data/raw/california_housing_0(2).csv\""
   ]
  },
  {
   "cell_type": "markdown",
   "id": "1b7e41bd-89c3-426f-85b3-eecda31cbf30",
   "metadata": {
    "id": "1b7e41bd-89c3-426f-85b3-eecda31cbf30"
   },
   "source": [
    "<a id='P1'></a>\n",
    "## [Data Preparation](#P0)"
   ]
  },
  {
   "cell_type": "code",
   "execution_count": 5,
   "id": "9c4ce496-5b18-4e97-a6ea-71148988f693",
   "metadata": {
    "id": "9c4ce496-5b18-4e97-a6ea-71148988f693"
   },
   "outputs": [],
   "source": [
    "data = pd.read_csv(data_path)"
   ]
  },
  {
   "cell_type": "markdown",
   "id": "e9e18c88-b0a6-4d3c-8048-2fc103929a20",
   "metadata": {
    "id": "e9e18c88-b0a6-4d3c-8048-2fc103929a20"
   },
   "source": [
    "### Data Exploration"
   ]
  },
  {
   "cell_type": "code",
   "execution_count": 6,
   "id": "faf22828-67a0-4b0a-a53c-f5723ef6a5fe",
   "metadata": {
    "id": "faf22828-67a0-4b0a-a53c-f5723ef6a5fe",
    "outputId": "9bfa7428-3d2a-4495-ed28-fe2f5519be85"
   },
   "outputs": [
    {
     "data": {
      "text/html": [
       "<div>\n",
       "<style scoped>\n",
       "    .dataframe tbody tr th:only-of-type {\n",
       "        vertical-align: middle;\n",
       "    }\n",
       "\n",
       "    .dataframe tbody tr th {\n",
       "        vertical-align: top;\n",
       "    }\n",
       "\n",
       "    .dataframe thead th {\n",
       "        text-align: right;\n",
       "    }\n",
       "</style>\n",
       "<table border=\"1\" class=\"dataframe\">\n",
       "  <thead>\n",
       "    <tr style=\"text-align: right;\">\n",
       "      <th></th>\n",
       "      <th>longitude</th>\n",
       "      <th>latitude</th>\n",
       "      <th>housing_median_age</th>\n",
       "      <th>total_rooms</th>\n",
       "      <th>total_bedrooms</th>\n",
       "      <th>population</th>\n",
       "      <th>households</th>\n",
       "      <th>median_income</th>\n",
       "      <th>median_house_value</th>\n",
       "    </tr>\n",
       "  </thead>\n",
       "  <tbody>\n",
       "    <tr>\n",
       "      <th>0</th>\n",
       "      <td>-122.23</td>\n",
       "      <td>37.88</td>\n",
       "      <td>41.0</td>\n",
       "      <td>880.0</td>\n",
       "      <td>129.0</td>\n",
       "      <td>322.0</td>\n",
       "      <td>126.0</td>\n",
       "      <td>8.3252</td>\n",
       "      <td>452600.0</td>\n",
       "    </tr>\n",
       "    <tr>\n",
       "      <th>1</th>\n",
       "      <td>-122.22</td>\n",
       "      <td>37.86</td>\n",
       "      <td>21.0</td>\n",
       "      <td>7099.0</td>\n",
       "      <td>1106.0</td>\n",
       "      <td>2401.0</td>\n",
       "      <td>1138.0</td>\n",
       "      <td>8.3014</td>\n",
       "      <td>358500.0</td>\n",
       "    </tr>\n",
       "    <tr>\n",
       "      <th>2</th>\n",
       "      <td>-122.24</td>\n",
       "      <td>37.85</td>\n",
       "      <td>52.0</td>\n",
       "      <td>1467.0</td>\n",
       "      <td>190.0</td>\n",
       "      <td>496.0</td>\n",
       "      <td>177.0</td>\n",
       "      <td>7.2574</td>\n",
       "      <td>352100.0</td>\n",
       "    </tr>\n",
       "    <tr>\n",
       "      <th>3</th>\n",
       "      <td>-122.25</td>\n",
       "      <td>37.85</td>\n",
       "      <td>52.0</td>\n",
       "      <td>1274.0</td>\n",
       "      <td>235.0</td>\n",
       "      <td>558.0</td>\n",
       "      <td>219.0</td>\n",
       "      <td>5.6431</td>\n",
       "      <td>341300.0</td>\n",
       "    </tr>\n",
       "    <tr>\n",
       "      <th>4</th>\n",
       "      <td>-122.25</td>\n",
       "      <td>37.85</td>\n",
       "      <td>52.0</td>\n",
       "      <td>1627.0</td>\n",
       "      <td>280.0</td>\n",
       "      <td>565.0</td>\n",
       "      <td>259.0</td>\n",
       "      <td>3.8462</td>\n",
       "      <td>342200.0</td>\n",
       "    </tr>\n",
       "  </tbody>\n",
       "</table>\n",
       "</div>"
      ],
      "text/plain": [
       "   longitude  latitude  housing_median_age  total_rooms  total_bedrooms  \\\n",
       "0    -122.23     37.88                41.0        880.0           129.0   \n",
       "1    -122.22     37.86                21.0       7099.0          1106.0   \n",
       "2    -122.24     37.85                52.0       1467.0           190.0   \n",
       "3    -122.25     37.85                52.0       1274.0           235.0   \n",
       "4    -122.25     37.85                52.0       1627.0           280.0   \n",
       "\n",
       "   population  households  median_income  median_house_value  \n",
       "0       322.0       126.0         8.3252            452600.0  \n",
       "1      2401.0      1138.0         8.3014            358500.0  \n",
       "2       496.0       177.0         7.2574            352100.0  \n",
       "3       558.0       219.0         5.6431            341300.0  \n",
       "4       565.0       259.0         3.8462            342200.0  "
      ]
     },
     "execution_count": 6,
     "metadata": {},
     "output_type": "execute_result"
    }
   ],
   "source": [
    "data.head()"
   ]
  },
  {
   "cell_type": "code",
   "execution_count": 7,
   "id": "1343fdeb-352b-4810-a562-a533071f2ab7",
   "metadata": {
    "id": "1343fdeb-352b-4810-a562-a533071f2ab7",
    "outputId": "361e36fd-badc-4381-e2cf-0b3809a434ec"
   },
   "outputs": [
    {
     "data": {
      "text/plain": [
       "(5000, 9)"
      ]
     },
     "execution_count": 7,
     "metadata": {},
     "output_type": "execute_result"
    }
   ],
   "source": [
    "data.shape"
   ]
  },
  {
   "cell_type": "code",
   "execution_count": 8,
   "id": "a7a9343f-a297-402e-9f04-ca8b85e11806",
   "metadata": {
    "id": "a7a9343f-a297-402e-9f04-ca8b85e11806",
    "outputId": "7f68f167-a177-4148-9715-26a6bf12b5c2"
   },
   "outputs": [
    {
     "data": {
      "text/plain": [
       "longitude              0\n",
       "latitude               0\n",
       "housing_median_age     0\n",
       "total_rooms            0\n",
       "total_bedrooms        53\n",
       "population             0\n",
       "households             0\n",
       "median_income          0\n",
       "median_house_value     0\n",
       "dtype: int64"
      ]
     },
     "execution_count": 8,
     "metadata": {},
     "output_type": "execute_result"
    }
   ],
   "source": [
    "data.isna().sum()"
   ]
  },
  {
   "cell_type": "markdown",
   "id": "a9d67bf6-d180-43f7-a6db-4c41f391a169",
   "metadata": {
    "id": "a9d67bf6-d180-43f7-a6db-4c41f391a169"
   },
   "source": [
    "### Data Cleaning"
   ]
  },
  {
   "cell_type": "code",
   "execution_count": 9,
   "id": "feda63e6-9767-43db-9d6a-bac0d508b8bc",
   "metadata": {
    "id": "feda63e6-9767-43db-9d6a-bac0d508b8bc"
   },
   "outputs": [],
   "source": [
    "data = data.drop(columns=\"total_bedrooms\")"
   ]
  },
  {
   "cell_type": "markdown",
   "id": "73bd9500-ddbf-41d7-8e7c-c3f7b58361df",
   "metadata": {
    "id": "73bd9500-ddbf-41d7-8e7c-c3f7b58361df"
   },
   "source": [
    "### Train-Test Split"
   ]
  },
  {
   "cell_type": "code",
   "execution_count": 10,
   "id": "be0e4409-5b47-4fac-bb4d-e4efa2a56868",
   "metadata": {
    "id": "be0e4409-5b47-4fac-bb4d-e4efa2a56868"
   },
   "outputs": [],
   "source": [
    "data_train, data_test = train_test_split(data, test_size=0.33, random_state=0)"
   ]
  },
  {
   "cell_type": "code",
   "execution_count": 11,
   "id": "46e5b8ae-edba-4975-8d04-7d04918734ce",
   "metadata": {
    "id": "46e5b8ae-edba-4975-8d04-7d04918734ce",
    "outputId": "6b774da5-af2b-4318-e0f8-9df416637a2d"
   },
   "outputs": [
    {
     "data": {
      "text/plain": [
       "((3350, 8), (1650, 8))"
      ]
     },
     "execution_count": 11,
     "metadata": {},
     "output_type": "execute_result"
    }
   ],
   "source": [
    "data_train.shape, data_test.shape"
   ]
  },
  {
   "cell_type": "code",
   "execution_count": 12,
   "id": "c0b7b425-a427-420c-ae80-6e785711323b",
   "metadata": {
    "id": "c0b7b425-a427-420c-ae80-6e785711323b"
   },
   "outputs": [],
   "source": [
    "# # Select X and y values (predictor and outcome)\n",
    "X_train = data_train.drop(columns=\"median_house_value\")\n",
    "y_train = data_train[\"median_house_value\"]"
   ]
  },
  {
   "cell_type": "code",
   "execution_count": 13,
   "id": "3fe9a09f-db84-428c-85b5-92740a57ac74",
   "metadata": {
    "id": "3fe9a09f-db84-428c-85b5-92740a57ac74"
   },
   "outputs": [],
   "source": [
    "X_test = data_test.drop(columns=\"median_house_value\")\n",
    "y_test = data_test[\"median_house_value\"]"
   ]
  },
  {
   "cell_type": "code",
   "execution_count": 14,
   "id": "82dde063-87fa-4b9f-a7d5-cfe2b3d246d9",
   "metadata": {
    "id": "82dde063-87fa-4b9f-a7d5-cfe2b3d246d9",
    "outputId": "e26f656a-501b-4d89-ef32-95dae2e789c3"
   },
   "outputs": [
    {
     "data": {
      "text/plain": [
       "((3350, 7), (1650, 7))"
      ]
     },
     "execution_count": 14,
     "metadata": {},
     "output_type": "execute_result"
    }
   ],
   "source": [
    "X_train.shape, X_test.shape"
   ]
  },
  {
   "cell_type": "markdown",
   "id": "a1e02185-d70b-42b7-9e4b-eb4e1176f986",
   "metadata": {
    "id": "a1e02185-d70b-42b7-9e4b-eb4e1176f986"
   },
   "source": [
    "<a id='P2' name=\"P2\"></a>\n",
    "## [Modelling](#P0)"
   ]
  },
  {
   "cell_type": "markdown",
   "id": "1506d07a-3191-453e-807d-f84ad419dfde",
   "metadata": {
    "id": "1506d07a-3191-453e-807d-f84ad419dfde"
   },
   "source": [
    "### Pipeline Definition"
   ]
  },
  {
   "cell_type": "code",
   "execution_count": 15,
   "id": "ecaf779e-af7a-4e31-81bd-32b9a19d1d18",
   "metadata": {
    "id": "ecaf779e-af7a-4e31-81bd-32b9a19d1d18"
   },
   "outputs": [],
   "source": [
    "sc = StandardScaler()\n",
    "lin_reg = LinearRegression()\n",
    "pipeline_mlr = Pipeline([(\"data_scaling\", sc), (\"estimator\", lin_reg)])"
   ]
  },
  {
   "cell_type": "markdown",
   "id": "e61803d3-bd2c-4b8c-86e4-a0b57a529295",
   "metadata": {
    "id": "e61803d3-bd2c-4b8c-86e4-a0b57a529295"
   },
   "source": [
    "### Model Fit"
   ]
  },
  {
   "cell_type": "code",
   "execution_count": 16,
   "id": "6c2bcf20-b11f-4c08-919e-514cfe3feef8",
   "metadata": {
    "id": "6c2bcf20-b11f-4c08-919e-514cfe3feef8",
    "outputId": "85f2bc26-4bc9-49ff-8a01-8a10accc0d8d"
   },
   "outputs": [
    {
     "data": {
      "text/plain": [
       "Pipeline(steps=[('data_scaling', StandardScaler()),\n",
       "                ('estimator', LinearRegression())])"
      ]
     },
     "execution_count": 16,
     "metadata": {},
     "output_type": "execute_result"
    }
   ],
   "source": [
    "pipeline_mlr.fit(X_train, y_train)"
   ]
  },
  {
   "cell_type": "markdown",
   "id": "6aa262e4-2623-4e58-ac95-874374cc4173",
   "metadata": {
    "id": "6aa262e4-2623-4e58-ac95-874374cc4173"
   },
   "source": [
    "<a id='P3' name=\"P3\"></a>\n",
    "## [Model Evaluation](#P0)"
   ]
  },
  {
   "cell_type": "code",
   "execution_count": 17,
   "id": "86afc9d4-a151-46e3-b4ea-beb0e1d1a2ee",
   "metadata": {
    "id": "86afc9d4-a151-46e3-b4ea-beb0e1d1a2ee"
   },
   "outputs": [],
   "source": [
    "predictions_mlr = pipeline_mlr.predict(X_test)"
   ]
  },
  {
   "cell_type": "code",
   "execution_count": 18,
   "id": "28e7ad53-1113-4486-8388-e86e2498fdf6",
   "metadata": {
    "id": "28e7ad53-1113-4486-8388-e86e2498fdf6",
    "outputId": "5794ff17-eaba-431f-fe23-35a0ef61cff4"
   },
   "outputs": [
    {
     "data": {
      "text/plain": [
       "0.6303801772866726"
      ]
     },
     "execution_count": 18,
     "metadata": {},
     "output_type": "execute_result"
    }
   ],
   "source": [
    "# Test score\n",
    "pipeline_mlr.score(X_test, y_test)"
   ]
  },
  {
   "cell_type": "code",
   "execution_count": 19,
   "id": "3eceb817-d059-47d5-a872-d6fead03dd8c",
   "metadata": {
    "id": "3eceb817-d059-47d5-a872-d6fead03dd8c",
    "outputId": "1b009981-0737-4173-df0f-9d5fd9b66aa5"
   },
   "outputs": [
    {
     "name": "stdout",
     "output_type": "stream",
     "text": [
      "MAE 46722.86268024486\n",
      "MSE 4155629700.837575\n",
      "RMSE 64464.17377766952\n",
      "Explained Var Score 0.6304406174521564\n"
     ]
    }
   ],
   "source": [
    "print(\"MAE\", metrics.mean_absolute_error(y_test, predictions_mlr))\n",
    "print(\"MSE\", metrics.mean_squared_error(y_test, predictions_mlr))\n",
    "print(\"RMSE\", np.sqrt(metrics.mean_squared_error(y_test, predictions_mlr)))\n",
    "print(\"Explained Var Score\", metrics.explained_variance_score(y_test, predictions_mlr))"
   ]
  },
  {
   "cell_type": "markdown",
   "id": "6827877a-f9cf-456e-93cc-613f90720da8",
   "metadata": {
    "id": "6827877a-f9cf-456e-93cc-613f90720da8",
    "tags": [
     "livecode"
    ]
   },
   "source": [
    "<a id='CL'></a>\n",
    "## [Conclusion](#P0)\n",
    "\n",
    "This Notebook Shows a simple modelling experiment. We will use this base for building our machine Learning Project."
   ]
  },
  {
   "cell_type": "markdown",
   "id": "981c1a62-b47f-4286-91de-3962dd527cb3",
   "metadata": {
    "id": "981c1a62-b47f-4286-91de-3962dd527cb3"
   },
   "source": [
    "<div style=\"border-top:0.1cm solid #EF475B\"></div>\n",
    "    <strong><a href='#Q0'><div style=\"text-align: right\"> <h3>End of this Notebook.</h3></div></a></strong>"
   ]
  }
 ],
 "metadata": {
  "colab": {
   "collapsed_sections": [],
   "name": "MLE_D1_LC1_California_Prediction.ipynb",
   "provenance": []
  },
  "kernelspec": {
   "display_name": "Python 3 (ipykernel)",
   "language": "python",
   "name": "python3"
  },
  "language_info": {
   "codemirror_mode": {
    "name": "ipython",
    "version": 3
   },
   "file_extension": ".py",
   "mimetype": "text/x-python",
   "name": "python",
   "nbconvert_exporter": "python",
   "pygments_lexer": "ipython3",
   "version": "3.10.4"
  }
 },
 "nbformat": 4,
 "nbformat_minor": 5
}
